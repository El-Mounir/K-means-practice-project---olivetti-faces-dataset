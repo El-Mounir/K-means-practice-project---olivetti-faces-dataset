{
 "cells": [
  {
   "cell_type": "markdown",
   "metadata": {},
   "source": [
    "### Data <a class=\"anchor\" id=\"Data\"></a>\n",
    "\n",
    "The data for this project was downloaded from scikit-learn\n",
    "\n",
    "https://scikit-learn.org/stable/modules/generated/sklearn.datasets.fetch_olivetti_faces.html#sklearn.datasets.fetch_olivetti_faces"
   ]
  },
  {
   "cell_type": "code",
   "execution_count": 60,
   "metadata": {},
   "outputs": [],
   "source": [
    "import pandas as pd\n",
    "import numpy as np\n",
    "from sklearn.datasets import fetch_olivetti_faces\n",
    "import seaborn as sns\n",
    "import matplotlib.pyplot as plt\n",
    "from copy import deepcopy"
   ]
  },
  {
   "cell_type": "markdown",
   "metadata": {},
   "source": [
    "### Data sample (each row represents face images of original size 64 x 64 pixels). <a class=\"anchor\" id=\"Data\"></a>"
   ]
  },
  {
   "cell_type": "code",
   "execution_count": 40,
   "metadata": {},
   "outputs": [
    {
     "name": "stdout",
     "output_type": "stream",
     "text": [
      "[[0.30991736 0.3677686  0.41735536 ... 0.15289256 0.16115703 0.1570248 ]\n",
      " [0.45454547 0.47107437 0.5123967  ... 0.15289256 0.15289256 0.15289256]\n",
      " [0.3181818  0.40082645 0.49173555 ... 0.14049587 0.14876033 0.15289256]\n",
      " ...\n",
      " [0.5        0.53305787 0.607438   ... 0.17768595 0.14876033 0.19008264]\n",
      " [0.21487603 0.21900827 0.21900827 ... 0.57438016 0.59090906 0.60330576]\n",
      " [0.5165289  0.46280992 0.28099173 ... 0.35950413 0.3553719  0.38429752]]\n"
     ]
    }
   ],
   "source": [
    "olivetti_faces_df = fetch_olivetti_faces();\n",
    "\n",
    "pd.set_option('display.expand_frame_repr', False);\n",
    "pd.set_option('display.max_columns', None);\n",
    "\n",
    "print(olivetti_faces_df.data);"
   ]
  },
  {
   "cell_type": "markdown",
   "metadata": {},
   "source": [
    "### Target values indicating which cluster each data point belongs to <a class=\"anchor\" id=\"Data\"></a>"
   ]
  },
  {
   "cell_type": "code",
   "execution_count": 41,
   "metadata": {},
   "outputs": [
    {
     "name": "stdout",
     "output_type": "stream",
     "text": [
      "[ 0  0  0  0  0  0  0  0  0  0  1  1  1  1  1  1  1  1  1  1  2  2  2  2\n",
      "  2  2  2  2  2  2  3  3  3  3  3  3  3  3  3  3  4  4  4  4  4  4  4  4\n",
      "  4  4  5  5  5  5  5  5  5  5  5  5  6  6  6  6  6  6  6  6  6  6  7  7\n",
      "  7  7  7  7  7  7  7  7  8  8  8  8  8  8  8  8  8  8  9  9  9  9  9  9\n",
      "  9  9  9  9 10 10 10 10 10 10 10 10 10 10 11 11 11 11 11 11 11 11 11 11\n",
      " 12 12 12 12 12 12 12 12 12 12 13 13 13 13 13 13 13 13 13 13 14 14 14 14\n",
      " 14 14 14 14 14 14 15 15 15 15 15 15 15 15 15 15 16 16 16 16 16 16 16 16\n",
      " 16 16 17 17 17 17 17 17 17 17 17 17 18 18 18 18 18 18 18 18 18 18 19 19\n",
      " 19 19 19 19 19 19 19 19 20 20 20 20 20 20 20 20 20 20 21 21 21 21 21 21\n",
      " 21 21 21 21 22 22 22 22 22 22 22 22 22 22 23 23 23 23 23 23 23 23 23 23\n",
      " 24 24 24 24 24 24 24 24 24 24 25 25 25 25 25 25 25 25 25 25 26 26 26 26\n",
      " 26 26 26 26 26 26 27 27 27 27 27 27 27 27 27 27 28 28 28 28 28 28 28 28\n",
      " 28 28 29 29 29 29 29 29 29 29 29 29 30 30 30 30 30 30 30 30 30 30 31 31\n",
      " 31 31 31 31 31 31 31 31 32 32 32 32 32 32 32 32 32 32 33 33 33 33 33 33\n",
      " 33 33 33 33 34 34 34 34 34 34 34 34 34 34 35 35 35 35 35 35 35 35 35 35\n",
      " 36 36 36 36 36 36 36 36 36 36 37 37 37 37 37 37 37 37 37 37 38 38 38 38\n",
      " 38 38 38 38 38 38 39 39 39 39 39 39 39 39 39 39]\n"
     ]
    }
   ],
   "source": [
    "print(olivetti_faces_df.target);"
   ]
  },
  {
   "cell_type": "markdown",
   "metadata": {},
   "source": [
    "### Each row is a face image corresponding to one of the 40 subjects of the dataset. <a class=\"anchor\" id=\"Data\"></a>"
   ]
  },
  {
   "cell_type": "code",
   "execution_count": 42,
   "metadata": {},
   "outputs": [
    {
     "name": "stdout",
     "output_type": "stream",
     "text": [
      "[[[0.30991736 0.3677686  0.41735536 ... 0.37190083 0.3305785  0.30578512]\n",
      "  [0.3429752  0.40495867 0.43801653 ... 0.37190083 0.338843   0.3140496 ]\n",
      "  [0.3429752  0.41735536 0.45041323 ... 0.38016528 0.338843   0.29752067]\n",
      "  ...\n",
      "  [0.21487603 0.20661157 0.2231405  ... 0.15289256 0.16528925 0.17355372]\n",
      "  [0.20247933 0.2107438  0.2107438  ... 0.14876033 0.16115703 0.16528925]\n",
      "  [0.20247933 0.20661157 0.20247933 ... 0.15289256 0.16115703 0.1570248 ]]\n",
      "\n",
      " [[0.45454547 0.47107437 0.5123967  ... 0.19008264 0.18595041 0.18595041]\n",
      "  [0.446281   0.48347107 0.5206612  ... 0.21487603 0.2107438  0.2107438 ]\n",
      "  [0.49586776 0.5165289  0.53305787 ... 0.20247933 0.20661157 0.20661157]\n",
      "  ...\n",
      "  [0.77272725 0.78099173 0.7933884  ... 0.1446281  0.1446281  0.1446281 ]\n",
      "  [0.77272725 0.7768595  0.7892562  ... 0.13636364 0.13636364 0.13636364]\n",
      "  [0.7644628  0.7892562  0.78099173 ... 0.15289256 0.15289256 0.15289256]]\n",
      "\n",
      " [[0.3181818  0.40082645 0.49173555 ... 0.40082645 0.3553719  0.30991736]\n",
      "  [0.30991736 0.3966942  0.47933885 ... 0.40495867 0.37603307 0.30165288]\n",
      "  [0.26859504 0.34710744 0.45454547 ... 0.3966942  0.37190083 0.30991736]\n",
      "  ...\n",
      "  [0.1322314  0.09917355 0.08264463 ... 0.13636364 0.14876033 0.15289256]\n",
      "  [0.11570248 0.09504132 0.0785124  ... 0.1446281  0.1446281  0.1570248 ]\n",
      "  [0.11157025 0.09090909 0.0785124  ... 0.14049587 0.14876033 0.15289256]]\n",
      "\n",
      " ...\n",
      "\n",
      " [[0.5        0.53305787 0.607438   ... 0.28512397 0.23966943 0.21487603]\n",
      "  [0.49173555 0.5413223  0.60330576 ... 0.29752067 0.20247933 0.20661157]\n",
      "  [0.46694216 0.55785125 0.6198347  ... 0.29752067 0.17768595 0.18595041]\n",
      "  ...\n",
      "  [0.03305785 0.46280992 0.5289256  ... 0.17355372 0.17355372 0.1694215 ]\n",
      "  [0.1570248  0.5247934  0.53305787 ... 0.16528925 0.1570248  0.18595041]\n",
      "  [0.45454547 0.5206612  0.53305787 ... 0.17768595 0.14876033 0.19008264]]\n",
      "\n",
      " [[0.21487603 0.21900827 0.21900827 ... 0.71487606 0.71487606 0.6942149 ]\n",
      "  [0.20247933 0.20661157 0.20661157 ... 0.7107438  0.7066116  0.6942149 ]\n",
      "  [0.2107438  0.20661157 0.20661157 ... 0.6859504  0.69008267 0.6942149 ]\n",
      "  ...\n",
      "  [0.2644628  0.25619835 0.2603306  ... 0.5413223  0.57438016 0.59090906]\n",
      "  [0.26859504 0.2644628  0.26859504 ... 0.56198347 0.58264464 0.59504133]\n",
      "  [0.27272728 0.26859504 0.27272728 ... 0.57438016 0.59090906 0.60330576]]\n",
      "\n",
      " [[0.5165289  0.46280992 0.28099173 ... 0.5785124  0.5413223  0.60330576]\n",
      "  [0.5165289  0.45041323 0.29338843 ... 0.58264464 0.553719   0.5785124 ]\n",
      "  [0.5165289  0.44214877 0.29338843 ... 0.59917355 0.5785124  0.54545456]\n",
      "  ...\n",
      "  [0.39256197 0.41322315 0.38842976 ... 0.33471075 0.37190083 0.3966942 ]\n",
      "  [0.39256197 0.38429752 0.40495867 ... 0.3305785  0.35950413 0.37603307]\n",
      "  [0.3677686  0.40495867 0.3966942  ... 0.35950413 0.3553719  0.38429752]]]\n"
     ]
    }
   ],
   "source": [
    "print(olivetti_faces_df.images);"
   ]
  },
  {
   "cell_type": "markdown",
   "metadata": {},
   "source": [
    "### Dataset description"
   ]
  },
  {
   "cell_type": "code",
   "execution_count": 43,
   "metadata": {},
   "outputs": [
    {
     "name": "stdout",
     "output_type": "stream",
     "text": [
      ".. _olivetti_faces_dataset:\n",
      "\n",
      "The Olivetti faces dataset\n",
      "--------------------------\n",
      "\n",
      "`This dataset contains a set of face images`_ taken between April 1992 and\n",
      "April 1994 at AT&T Laboratories Cambridge. The\n",
      ":func:`sklearn.datasets.fetch_olivetti_faces` function is the data\n",
      "fetching / caching function that downloads the data\n",
      "archive from AT&T.\n",
      "\n",
      ".. _This dataset contains a set of face images: https://cam-orl.co.uk/facedatabase.html\n",
      "\n",
      "As described on the original website:\n",
      "\n",
      "    There are ten different images of each of 40 distinct subjects. For some\n",
      "    subjects, the images were taken at different times, varying the lighting,\n",
      "    facial expressions (open / closed eyes, smiling / not smiling) and facial\n",
      "    details (glasses / no glasses). All the images were taken against a dark\n",
      "    homogeneous background with the subjects in an upright, frontal position\n",
      "    (with tolerance for some side movement).\n",
      "\n",
      "**Data Set Characteristics:**\n",
      "\n",
      "=================   =====================\n",
      "Classes                                40\n",
      "Samples total                         400\n",
      "Dimensionality                       4096\n",
      "Features            real, between 0 and 1\n",
      "=================   =====================\n",
      "\n",
      "The image is quantized to 256 grey levels and stored as unsigned 8-bit\n",
      "integers; the loader will convert these to floating point values on the\n",
      "interval [0, 1], which are easier to work with for many algorithms.\n",
      "\n",
      "The \"target\" for this database is an integer from 0 to 39 indicating the\n",
      "identity of the person pictured; however, with only 10 examples per class, this\n",
      "relatively small dataset is more interesting from an unsupervised or\n",
      "semi-supervised perspective.\n",
      "\n",
      "The original dataset consisted of 92 x 112, while the version available here\n",
      "consists of 64x64 images.\n",
      "\n",
      "When using these images, please give credit to AT&T Laboratories Cambridge.\n",
      "\n"
     ]
    }
   ],
   "source": [
    "print(olivetti_faces_df.DESCR);"
   ]
  },
  {
   "cell_type": "code",
   "execution_count": 44,
   "metadata": {},
   "outputs": [],
   "source": [
    "dt_sample = olivetti_faces_df.data;"
   ]
  },
  {
   "cell_type": "code",
   "execution_count": 68,
   "metadata": {},
   "outputs": [],
   "source": [
    "# Selecting only the 2 first columns \"features\"\n",
    "axis_x = dt_sample[:,0];\n",
    "axis_y = dt_sample[:,1];\n",
    "\n",
    "#print(axis_x);"
   ]
  },
  {
   "cell_type": "code",
   "execution_count": 69,
   "metadata": {},
   "outputs": [
    {
     "data": {
      "image/png": "[encoded data removed]",
      "text/plain": [
       "<Figure size 640x480 with 1 Axes>"
      ]
     },
     "metadata": {},
     "output_type": "display_data"
    }
   ],
   "source": [
    "# ploting data using scatter plot to have an idea of the distribution\n",
    "plt.scatter(axis_x, axis_y, alpha = 0.5);\n",
    "plt.show();"
   ]
  },
  {
   "cell_type": "markdown",
   "metadata": {},
   "source": [
    "## K-Means algorithm implementation"
   ]
  },
  {
   "cell_type": "markdown",
   "metadata": {},
   "source": [
    "#### Placing k random centroids for the initial clusters."
   ]
  },
  {
   "cell_type": "code",
   "execution_count": 62,
   "metadata": {},
   "outputs": [
    {
     "name": "stdout",
     "output_type": "stream",
     "text": [
      "[[0.28211745 0.57333636]\n",
      " [0.6644194  0.11605639]\n",
      " [0.29978333 0.46927281]\n",
      " [0.67063639 0.48030323]\n",
      " [0.21779731 0.59510409]\n",
      " [0.6905287  0.81534235]\n",
      " [0.1074617  0.80596421]\n",
      " [0.5753026  0.58800357]\n",
      " [0.43264306 0.53669376]\n",
      " [0.19863344 0.4958026 ]]\n"
     ]
    }
   ],
   "source": [
    "# Number of clusters\n",
    "k = 10;\n",
    "# Using random.uniform() function to generate random x coordinates values of k random centroids \n",
    "centroids_x = np.random.uniform(min(axis_x), max(axis_x), size = k);\n",
    "# Generate y coordinates of k random centroids\n",
    "centroids_y = np.random.uniform(min(axis_y), max(axis_y), size = k);\n",
    "# Create centroids array\n",
    "centroids = np.array(list(zip(centroids_x, centroids_y)));\n",
    "\n",
    "# Saving old centroids\n",
    "old_centroids= deepcopy(centroids);\n",
    "\n",
    "print(centroids);"
   ]
  },
  {
   "cell_type": "code",
   "execution_count": null,
   "metadata": {},
   "outputs": [
    {
     "data": {
      "image/png": "[encoded data removed]",
      "text/plain": [
       "<Figure size 640x480 with 1 Axes>"
      ]
     },
     "metadata": {},
     "output_type": "display_data"
    }
   ],
   "source": [
    "# A scatter plot of the centroids - only showing 2 dimensions out of 4 - \n",
    "plt.scatter(centroids_x, centroids_y);\n",
    "plt.show();"
   ]
  },
  {
   "cell_type": "markdown",
   "metadata": {},
   "source": [
    "#### Assigning data samples to the nearest centroid."
   ]
  },
  {
   "cell_type": "code",
   "execution_count": 54,
   "metadata": {},
   "outputs": [
    {
     "name": "stdout",
     "output_type": "stream",
     "text": [
      "0.13504720294261005\n"
     ]
    }
   ],
   "source": [
    "# Distance formula func - using Euclidean Distance method\n",
    "def distance(point_1, point_2):\n",
    "  d_one = (point_1[0] - point_2[0]) ** 2;\n",
    "  d_two = (point_1[1] - point_2[1]) ** 2;\n",
    "  distance = (d_one + d_two) ** 0.5;\n",
    "  return distance;\n",
    "\n",
    "print(distance([0.6345,0.9,0.76459],[0.7675,0.87657465,0.8767467]));"
   ]
  },
  {
   "cell_type": "code",
   "execution_count": null,
   "metadata": {},
   "outputs": [],
   "source": [
    "# Cluster labels for each point (0 or 1 .... or 9)\n",
    "c_labels = np.zeros(len(dt_sample));"
   ]
  },
  {
   "cell_type": "code",
   "execution_count": 53,
   "metadata": {},
   "outputs": [
    {
     "name": "stdout",
     "output_type": "stream",
     "text": [
      "[8. 0. 8. 7. 0. 0. 7. 7. 7. 0. 9. 2. 2. 2. 2. 2. 9. 9. 2. 9. 9. 2. 2. 7.\n",
      " 7. 7. 7. 7. 0. 0. 7. 9. 7. 9. 2. 0. 7. 7. 2. 2. 0. 2. 2. 0. 0. 0. 0. 0.\n",
      " 0. 0. 2. 2. 2. 2. 0. 2. 7. 2. 8. 9. 7. 7. 7. 7. 7. 7. 7. 7. 7. 7. 7. 7.\n",
      " 0. 2. 7. 0. 2. 7. 7. 2. 0. 0. 0. 0. 0. 7. 7. 7. 0. 9. 0. 8. 9. 2. 7. 0.\n",
      " 0. 0. 7. 0. 7. 7. 7. 8. 7. 7. 7. 9. 2. 7. 0. 9. 0. 9. 0. 0. 9. 9. 9. 0.\n",
      " 0. 9. 7. 7. 0. 2. 7. 7. 0. 0. 2. 9. 2. 0. 0. 2. 0. 0. 2. 0. 9. 9. 0. 0.\n",
      " 0. 0. 0. 0. 0. 9. 2. 0. 9. 9. 9. 0. 9. 7. 8. 9. 0. 0. 0. 9. 0. 7. 7. 7.\n",
      " 7. 7. 0. 0. 0. 0. 0. 0. 0. 0. 0. 7. 7. 7. 7. 0. 0. 7. 9. 0. 0. 8. 0. 0.\n",
      " 0. 7. 8. 7. 8. 7. 7. 2. 0. 7. 0. 0. 0. 0. 7. 7. 0. 7. 7. 7. 7. 7. 7. 7.\n",
      " 7. 7. 7. 7. 0. 2. 2. 7. 2. 7. 9. 2. 7. 7. 0. 0. 7. 7. 0. 7. 7. 9. 7. 7.\n",
      " 9. 2. 2. 7. 7. 2. 0. 7. 0. 2. 2. 7. 9. 2. 2. 0. 2. 2. 2. 2. 0. 0. 0. 0.\n",
      " 2. 0. 0. 0. 2. 0. 9. 9. 0. 7. 2. 9. 2. 2. 2. 7. 7. 7. 7. 0. 7. 7. 7. 7.\n",
      " 7. 7. 0. 0. 0. 7. 0. 0. 8. 7. 0. 0. 0. 2. 2. 2. 2. 0. 0. 0. 0. 2. 0. 0.\n",
      " 9. 9. 0. 9. 2. 0. 2. 0. 7. 7. 7. 7. 7. 7. 7. 7. 7. 7. 0. 0. 0. 7. 0. 0.\n",
      " 0. 0. 0. 0. 7. 0. 0. 0. 7. 0. 0. 7. 7. 7. 7. 7. 7. 8. 7. 7. 7. 0. 0. 7.\n",
      " 7. 7. 7. 7. 7. 7. 7. 4. 7. 7. 7. 7. 7. 7. 7. 7. 7. 8. 7. 7. 7. 0. 7. 7.\n",
      " 7. 7. 7. 0. 7. 7. 9. 0. 0. 0. 7. 0. 0. 0. 7. 0.]\n"
     ]
    }
   ],
   "source": [
    "# A function that assigns the nearest centroid to a data sample\n",
    "def assign_to_N_centroid(sample, centroids):\n",
    "  k = len(centroids);\n",
    "  distances = np.zeros(k);\n",
    "  for p in range(k):\n",
    "    distances[p] = distance(sample, centroids[p]);\n",
    "  # The argmin(distances) would return the index of the lowest corresponding distance\n",
    "  closest_centroid = np.argmin(distances);\n",
    "  return closest_centroid;\n",
    "\n",
    "# Assign the nearest centroid to each sample\n",
    "for p in range(len(dt_sample)):\n",
    "  c_labels[p] = assign_to_N_centroid(dt_sample[p], centroids);\n",
    "\n",
    "# Print labels\n",
    "print(c_labels);"
   ]
  },
  {
   "cell_type": "markdown",
   "metadata": {},
   "source": [
    "#### Update centroids based on the assigned data sample"
   ]
  },
  {
   "cell_type": "code",
   "execution_count": null,
   "metadata": {},
   "outputs": [],
   "source": []
  }
 ],
 "metadata": {
  "kernelspec": {
   "display_name": "Python 3",
   "language": "python",
   "name": "python3"
  },
  "language_info": {
   "codemirror_mode": {
    "name": "ipython",
    "version": 3
   },
   "file_extension": ".py",
   "mimetype": "text/x-python",
   "name": "python",
   "nbconvert_exporter": "python",
   "pygments_lexer": "ipython3",
   "version": "3.9.6"
  }
 },
 "nbformat": 4,
 "nbformat_minor": 2
}
